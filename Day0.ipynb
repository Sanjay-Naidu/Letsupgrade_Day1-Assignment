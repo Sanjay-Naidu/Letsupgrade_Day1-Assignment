{
 "cells": [
  {
   "cell_type": "markdown",
   "metadata": {},
   "source": [
    "1.WHAT IS PYTHON?WHAT ARE THE WAYS TO INSTALL PYTHON IN YOUR PC?\n",
    "\n",
    "ANS:Python is an interpreted, high-level,general-purpose programming language. Created by Guido van Rossum and first released in 1991, Python's design philosophy emphasizes code readability with its notable use of significant white space. Its language constructors and object oriented approach aim to help programmers write clear, logical code for small and large-scale projects.\n",
    "\n",
    "Python is dynamically typed and garbage-collector. It supports multiple programming paradigms, including structed (particularly, procedural), object-oriented,and functional programming. Python is often described as a \"batteries included\" language due to its comprehensive standrad library.\n",
    "\n",
    "The ways to install PYTHON in PC is to install Anaconda programmer in pc.\n",
    "\n",
    "2.WHAT ARE CODE ENVIRONMENTS?TYPES?\n",
    "\n",
    "ANS:CODE ENVIRONMENT: Code environment means where we write the program,run the program and see the output of the programmer in one screen.\n",
    "\n",
    "There are 3 main types of environments:\n",
    "\n",
    "Text Editors\n",
    "Full IDE's\n",
    "Notebook Environments"
   ]
  }
 ],
 "metadata": {
  "kernelspec": {
   "display_name": "Python 3",
   "language": "python",
   "name": "python3"
  },
  "language_info": {
   "codemirror_mode": {
    "name": "ipython",
    "version": 3
   },
   "file_extension": ".py",
   "mimetype": "text/x-python",
   "name": "python",
   "nbconvert_exporter": "python",
   "pygments_lexer": "ipython3",
   "version": "3.7.6"
  }
 },
 "nbformat": 4,
 "nbformat_minor": 4
}
